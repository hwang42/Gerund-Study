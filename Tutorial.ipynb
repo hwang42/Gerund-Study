{
 "cells": [
  {
   "cell_type": "code",
   "execution_count": 1,
   "id": "1d2791b2",
   "metadata": {},
   "outputs": [],
   "source": [
    "import pickle\n",
    "\n",
    "from alpha import print_sent, print_parse"
   ]
  },
  {
   "cell_type": "markdown",
   "id": "b959cd31",
   "metadata": {},
   "source": [
    "All sentence parse are stored as a two-element tuple with the following content:\n",
    "\n",
    "1. A list of strings, each representing a token of the sentence.\n",
    "2. A list of dictionaries, this list is the output of `stanza`."
   ]
  },
  {
   "cell_type": "code",
   "execution_count": 2,
   "id": "ff08181f",
   "metadata": {},
   "outputs": [
    {
     "data": {
      "text/plain": [
       "(['Section', ':', 'Life', 'and', 'Letters'],\n",
       " [{'id': 1,\n",
       "   'text': 'Section',\n",
       "   'lemma': 'section',\n",
       "   'upos': 'NOUN',\n",
       "   'xpos': 'NN',\n",
       "   'feats': 'Number=Sing',\n",
       "   'head': 0,\n",
       "   'deprel': 'root',\n",
       "   'misc': '',\n",
       "   'start_char': 0,\n",
       "   'end_char': 7},\n",
       "  {'id': 2,\n",
       "   'text': ':',\n",
       "   'lemma': ':',\n",
       "   'upos': 'PUNCT',\n",
       "   'xpos': ':',\n",
       "   'head': 3,\n",
       "   'deprel': 'punct',\n",
       "   'misc': '',\n",
       "   'start_char': 8,\n",
       "   'end_char': 9},\n",
       "  {'id': 3,\n",
       "   'text': 'Life',\n",
       "   'lemma': 'life',\n",
       "   'upos': 'NOUN',\n",
       "   'xpos': 'NN',\n",
       "   'feats': 'Number=Sing',\n",
       "   'head': 1,\n",
       "   'deprel': 'appos',\n",
       "   'misc': '',\n",
       "   'start_char': 10,\n",
       "   'end_char': 14},\n",
       "  {'id': 4,\n",
       "   'text': 'and',\n",
       "   'lemma': 'and',\n",
       "   'upos': 'CCONJ',\n",
       "   'xpos': 'CC',\n",
       "   'head': 5,\n",
       "   'deprel': 'cc',\n",
       "   'misc': '',\n",
       "   'start_char': 15,\n",
       "   'end_char': 18},\n",
       "  {'id': 5,\n",
       "   'text': 'Letters',\n",
       "   'lemma': 'letter',\n",
       "   'upos': 'NOUN',\n",
       "   'xpos': 'NNS',\n",
       "   'feats': 'Number=Plur',\n",
       "   'head': 3,\n",
       "   'deprel': 'conj',\n",
       "   'misc': '',\n",
       "   'start_char': 19,\n",
       "   'end_char': 26}])"
      ]
     },
     "execution_count": 2,
     "metadata": {},
     "output_type": "execute_result"
    }
   ],
   "source": [
    "with open(\"parsed-alpha/4000161-0-0.pkl\", \"rb\") as file:\n",
    "    sentence = pickle.load(file)\n",
    "    \n",
    "sentence"
   ]
  },
  {
   "cell_type": "markdown",
   "id": "6ecc3e3b",
   "metadata": {},
   "source": [
    "All functions are designed to accept a sentence as either a loaded tuple (using the `pickle` module) or a filename pointing to a `pkl` file to be loaded."
   ]
  },
  {
   "cell_type": "code",
   "execution_count": 3,
   "id": "f657a3e7",
   "metadata": {},
   "outputs": [
    {
     "data": {
      "text/html": [
       "<div><div style=\"display:inline-block;margin:1px 3px;\">Section</div> <div style=\"display:inline-block;margin:1px 3px;\">:</div> <div style=\"display:inline-block;margin:1px 3px;\">Life</div> <div style=\"display:inline-block;margin:1px 3px;\">and</div> <div style=\"display:inline-block;margin:1px 3px;\">Letters</div></div>"
      ]
     },
     "metadata": {},
     "output_type": "display_data"
    },
    {
     "name": "stdout",
     "output_type": "stream",
     "text": [
      "-------------------------\n"
     ]
    },
    {
     "data": {
      "text/html": [
       "<div><div style=\"display:inline-block;margin:1px 3px;\">Section</div> <div style=\"display:inline-block;margin:1px 3px;\">:</div> <div style=\"display:inline-block;margin:1px 3px;\">Life</div> <div style=\"display:inline-block;margin:1px 3px;\">and</div> <div style=\"display:inline-block;margin:1px 3px;\">Letters</div></div>"
      ]
     },
     "metadata": {},
     "output_type": "display_data"
    }
   ],
   "source": [
    "print_sent(sentence)\n",
    "print('-' * 25)\n",
    "print_sent(\"parsed-alpha/4000161-0-0.pkl\")"
   ]
  },
  {
   "cell_type": "markdown",
   "id": "2e7bd8d4",
   "metadata": {},
   "source": [
    "The `print_sent` function also takes an optional parameter `xpos` which determine whether the printed sentence should contain the `xpos` for each token."
   ]
  },
  {
   "cell_type": "code",
   "execution_count": 4,
   "id": "12d7a865",
   "metadata": {},
   "outputs": [
    {
     "data": {
      "text/html": [
       "<div><div style=\"display:inline-block;margin:1px 3px;\"><div>But</div><div>CC</div></div> <div style=\"display:inline-block;margin:1px 3px;\"><div>then</div><div>RB</div></div> <div style=\"display:inline-block;margin:1px 3px;\"><div>my</div><div>PRP$</div></div> <div style=\"display:inline-block;margin:1px 3px;\"><div>friend</div><div>NN</div></div> <div style=\"display:inline-block;margin:1px 3px;\"><div>made</div><div>VBD</div></div> <div style=\"display:inline-block;margin:1px 3px;\"><div>a</div><div>DT</div></div> <div style=\"display:inline-block;margin:1px 3px;\"><div>mistake</div><div>NN</div></div> <div style=\"display:inline-block;margin:1px 3px;\"><div>that</div><div>WDT</div></div> <div style=\"display:inline-block;margin:1px 3px;\"><div>ended</div><div>VBD</div></div> <div style=\"display:inline-block;margin:1px 3px;\"><div>the</div><div>DT</div></div> <div style=\"display:inline-block;margin:1px 3px;\"><div>game</div><div>NN</div></div> <div style=\"display:inline-block;margin:1px 3px;\"><div>.</div><div>.</div></div></div>"
      ]
     },
     "metadata": {},
     "output_type": "display_data"
    }
   ],
   "source": [
    "print_sent(\"parsed-alpha/4000161-10-0.pkl\", xpos=True)"
   ]
  },
  {
   "cell_type": "markdown",
   "id": "cbb6c84f",
   "metadata": {},
   "source": [
    "`print_parse` has an optional parameter `aligned` which defaults to `True` that determine whether the outputs are aligned."
   ]
  },
  {
   "cell_type": "code",
   "execution_count": 5,
   "id": "9f06c489",
   "metadata": {},
   "outputs": [
    {
     "name": "stdout",
     "output_type": "stream",
     "text": [
      "Root: made [VBD]\n",
      "   made [VBD] -(   cc    )-> [ CC ] But    \n",
      "   made [VBD] -( advmod  )-> [ RB ] then   \n",
      " friend [NN ] -(nmod:poss)-> [PRP$] my     \n",
      "   made [VBD] -(  nsubj  )-> [ NN ] friend \n",
      "mistake [NN ] -(   det   )-> [ DT ] a      \n",
      "   made [VBD] -(   obj   )-> [ NN ] mistake\n",
      "  ended [VBD] -(  nsubj  )-> [WDT ] that   \n",
      "mistake [NN ] -(acl:relcl)-> [VBD ] ended  \n",
      "   game [NN ] -(   det   )-> [ DT ] the    \n",
      "  ended [VBD] -(   obj   )-> [ NN ] game   \n",
      "   made [VBD] -(  punct  )-> [ .  ] .      \n"
     ]
    }
   ],
   "source": [
    "print_parse(\"parsed-alpha/4000161-10-0.pkl\")"
   ]
  },
  {
   "cell_type": "code",
   "execution_count": 6,
   "id": "381be96b",
   "metadata": {},
   "outputs": [
    {
     "name": "stdout",
     "output_type": "stream",
     "text": [
      "Root: made [VBD]\n",
      "made [VBD] -(cc)-> [CC] But\n",
      "made [VBD] -(advmod)-> [RB] then\n",
      "friend [NN] -(nmod:poss)-> [PRP$] my\n",
      "made [VBD] -(nsubj)-> [NN] friend\n",
      "mistake [NN] -(det)-> [DT] a\n",
      "made [VBD] -(obj)-> [NN] mistake\n",
      "ended [VBD] -(nsubj)-> [WDT] that\n",
      "mistake [NN] -(acl:relcl)-> [VBD] ended\n",
      "game [NN] -(det)-> [DT] the\n",
      "ended [VBD] -(obj)-> [NN] game\n",
      "made [VBD] -(punct)-> [.] .\n"
     ]
    }
   ],
   "source": [
    "print_parse(\"parsed-alpha/4000161-10-0.pkl\", aligned=False)"
   ]
  }
 ],
 "metadata": {
  "kernelspec": {
   "display_name": "Python 3 (ipykernel)",
   "language": "python",
   "name": "python3"
  },
  "language_info": {
   "codemirror_mode": {
    "name": "ipython",
    "version": 3
   },
   "file_extension": ".py",
   "mimetype": "text/x-python",
   "name": "python",
   "nbconvert_exporter": "python",
   "pygments_lexer": "ipython3",
   "version": "3.8.12"
  }
 },
 "nbformat": 4,
 "nbformat_minor": 5
}
